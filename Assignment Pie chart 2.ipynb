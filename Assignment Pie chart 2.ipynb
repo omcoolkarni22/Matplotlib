{
 "cells": [
  {
   "cell_type": "code",
   "execution_count": 1,
   "metadata": {},
   "outputs": [],
   "source": [
    "import pandas as pd\n",
    "import matplotlib.pyplot as plt"
   ]
  },
  {
   "cell_type": "code",
   "execution_count": 2,
   "metadata": {},
   "outputs": [
    {
     "data": {
      "text/html": [
       "<div>\n",
       "<style scoped>\n",
       "    .dataframe tbody tr th:only-of-type {\n",
       "        vertical-align: middle;\n",
       "    }\n",
       "\n",
       "    .dataframe tbody tr th {\n",
       "        vertical-align: top;\n",
       "    }\n",
       "\n",
       "    .dataframe thead th {\n",
       "        text-align: right;\n",
       "    }\n",
       "</style>\n",
       "<table border=\"1\" class=\"dataframe\">\n",
       "  <thead>\n",
       "    <tr style=\"text-align: right;\">\n",
       "      <th></th>\n",
       "      <th>Date;</th>\n",
       "      <th>Product Name;</th>\n",
       "      <th>Number Of Bugs</th>\n",
       "    </tr>\n",
       "  </thead>\n",
       "  <tbody>\n",
       "    <tr>\n",
       "      <td>0</td>\n",
       "      <td>08/01/2015;</td>\n",
       "      <td>Arista Router;</td>\n",
       "      <td>10</td>\n",
       "    </tr>\n",
       "    <tr>\n",
       "      <td>1</td>\n",
       "      <td>09/10/2015;</td>\n",
       "      <td>Arista Router;</td>\n",
       "      <td>3</td>\n",
       "    </tr>\n",
       "    <tr>\n",
       "      <td>2</td>\n",
       "      <td>09/10/2015;</td>\n",
       "      <td>Arista Router;</td>\n",
       "      <td>6</td>\n",
       "    </tr>\n",
       "    <tr>\n",
       "      <td>3</td>\n",
       "      <td>10/23/2015;</td>\n",
       "      <td>Arista Router;</td>\n",
       "      <td>8</td>\n",
       "    </tr>\n",
       "    <tr>\n",
       "      <td>4</td>\n",
       "      <td>10/23/2015;</td>\n",
       "      <td>Arista Router;</td>\n",
       "      <td>12</td>\n",
       "    </tr>\n",
       "    <tr>\n",
       "      <td>5</td>\n",
       "      <td>12/12/2015;</td>\n",
       "      <td>Arista Router;</td>\n",
       "      <td>5</td>\n",
       "    </tr>\n",
       "    <tr>\n",
       "      <td>6</td>\n",
       "      <td>12/12/2015;</td>\n",
       "      <td>Arista Router;</td>\n",
       "      <td>11</td>\n",
       "    </tr>\n",
       "    <tr>\n",
       "      <td>7</td>\n",
       "      <td>12/12/2015;</td>\n",
       "      <td>Arista Router;</td>\n",
       "      <td>4</td>\n",
       "    </tr>\n",
       "    <tr>\n",
       "      <td>8</td>\n",
       "      <td>12/12/2015;</td>\n",
       "      <td>Arista Router;</td>\n",
       "      <td>20</td>\n",
       "    </tr>\n",
       "    <tr>\n",
       "      <td>9</td>\n",
       "      <td>01/01/2016;</td>\n",
       "      <td>Arista Router;</td>\n",
       "      <td>23</td>\n",
       "    </tr>\n",
       "    <tr>\n",
       "      <td>10</td>\n",
       "      <td>01/01/2016;</td>\n",
       "      <td>Arista Router;</td>\n",
       "      <td>16</td>\n",
       "    </tr>\n",
       "    <tr>\n",
       "      <td>11</td>\n",
       "      <td>01/01/2016;</td>\n",
       "      <td>Arista Router;</td>\n",
       "      <td>4</td>\n",
       "    </tr>\n",
       "    <tr>\n",
       "      <td>12</td>\n",
       "      <td>02/26/2016;</td>\n",
       "      <td>Arista Router;</td>\n",
       "      <td>4</td>\n",
       "    </tr>\n",
       "    <tr>\n",
       "      <td>13</td>\n",
       "      <td>02/26/2016;</td>\n",
       "      <td>Arista Router;</td>\n",
       "      <td>12</td>\n",
       "    </tr>\n",
       "    <tr>\n",
       "      <td>14</td>\n",
       "      <td>04/19/2016;</td>\n",
       "      <td>Arista Router;</td>\n",
       "      <td>1</td>\n",
       "    </tr>\n",
       "    <tr>\n",
       "      <td>15</td>\n",
       "      <td>08/01/2015;</td>\n",
       "      <td>Cisco Router;</td>\n",
       "      <td>1</td>\n",
       "    </tr>\n",
       "    <tr>\n",
       "      <td>16</td>\n",
       "      <td>10/23/2015;</td>\n",
       "      <td>Cisco Router;</td>\n",
       "      <td>10</td>\n",
       "    </tr>\n",
       "    <tr>\n",
       "      <td>17</td>\n",
       "      <td>12/12/2015;</td>\n",
       "      <td>Cisco Router;</td>\n",
       "      <td>9</td>\n",
       "    </tr>\n",
       "    <tr>\n",
       "      <td>18</td>\n",
       "      <td>12/12/2015;</td>\n",
       "      <td>Cisco Router;</td>\n",
       "      <td>16</td>\n",
       "    </tr>\n",
       "    <tr>\n",
       "      <td>19</td>\n",
       "      <td>12/12/2015;</td>\n",
       "      <td>Cisco Router;</td>\n",
       "      <td>18</td>\n",
       "    </tr>\n",
       "    <tr>\n",
       "      <td>20</td>\n",
       "      <td>01/01/2016;</td>\n",
       "      <td>Cisco Router;</td>\n",
       "      <td>18</td>\n",
       "    </tr>\n",
       "    <tr>\n",
       "      <td>21</td>\n",
       "      <td>02/26/2016;</td>\n",
       "      <td>Cisco Router;</td>\n",
       "      <td>21</td>\n",
       "    </tr>\n",
       "    <tr>\n",
       "      <td>22</td>\n",
       "      <td>03/09/2016;</td>\n",
       "      <td>Cisco Router;</td>\n",
       "      <td>20</td>\n",
       "    </tr>\n",
       "    <tr>\n",
       "      <td>23</td>\n",
       "      <td>09/10/2015;</td>\n",
       "      <td>Cisco Switch</td>\n",
       "      <td>13</td>\n",
       "    </tr>\n",
       "    <tr>\n",
       "      <td>24</td>\n",
       "      <td>10/23/2015;</td>\n",
       "      <td>Dell Server;</td>\n",
       "      <td>5</td>\n",
       "    </tr>\n",
       "    <tr>\n",
       "      <td>25</td>\n",
       "      <td>10/23/2015;</td>\n",
       "      <td>Dell Server;</td>\n",
       "      <td>6</td>\n",
       "    </tr>\n",
       "    <tr>\n",
       "      <td>26</td>\n",
       "      <td>12/12/2015;</td>\n",
       "      <td>Dell Server;</td>\n",
       "      <td>7</td>\n",
       "    </tr>\n",
       "    <tr>\n",
       "      <td>27</td>\n",
       "      <td>12/12/2015;</td>\n",
       "      <td>Dell Server;</td>\n",
       "      <td>18</td>\n",
       "    </tr>\n",
       "    <tr>\n",
       "      <td>28</td>\n",
       "      <td>12/12/2015;</td>\n",
       "      <td>Dell Server;</td>\n",
       "      <td>0</td>\n",
       "    </tr>\n",
       "    <tr>\n",
       "      <td>29</td>\n",
       "      <td>01/01/2016;</td>\n",
       "      <td>Dell Server;</td>\n",
       "      <td>11</td>\n",
       "    </tr>\n",
       "    <tr>\n",
       "      <td>30</td>\n",
       "      <td>02/26/2016;</td>\n",
       "      <td>Dell Server;</td>\n",
       "      <td>2</td>\n",
       "    </tr>\n",
       "    <tr>\n",
       "      <td>31</td>\n",
       "      <td>03/09/2016;</td>\n",
       "      <td>Dell Server;</td>\n",
       "      <td>23</td>\n",
       "    </tr>\n",
       "    <tr>\n",
       "      <td>32</td>\n",
       "      <td>10/23/2015;</td>\n",
       "      <td>HP Server;</td>\n",
       "      <td>7</td>\n",
       "    </tr>\n",
       "    <tr>\n",
       "      <td>33</td>\n",
       "      <td>12/12/2015;</td>\n",
       "      <td>HP Server;</td>\n",
       "      <td>4</td>\n",
       "    </tr>\n",
       "    <tr>\n",
       "      <td>34</td>\n",
       "      <td>12/12/2015;</td>\n",
       "      <td>HP Server;</td>\n",
       "      <td>2</td>\n",
       "    </tr>\n",
       "    <tr>\n",
       "      <td>35</td>\n",
       "      <td>02/26/2016;</td>\n",
       "      <td>HP Server;</td>\n",
       "      <td>20</td>\n",
       "    </tr>\n",
       "    <tr>\n",
       "      <td>36</td>\n",
       "      <td>02/26/2016;</td>\n",
       "      <td>HP Server;</td>\n",
       "      <td>3</td>\n",
       "    </tr>\n",
       "    <tr>\n",
       "      <td>37</td>\n",
       "      <td>02/26/2016;</td>\n",
       "      <td>HP Server;</td>\n",
       "      <td>30</td>\n",
       "    </tr>\n",
       "    <tr>\n",
       "      <td>38</td>\n",
       "      <td>02/26/2016;</td>\n",
       "      <td>HP Server;</td>\n",
       "      <td>31</td>\n",
       "    </tr>\n",
       "    <tr>\n",
       "      <td>39</td>\n",
       "      <td>03/09/2016;</td>\n",
       "      <td>HP Server;</td>\n",
       "      <td>2</td>\n",
       "    </tr>\n",
       "    <tr>\n",
       "      <td>40</td>\n",
       "      <td>03/09/2016;</td>\n",
       "      <td>HP Server;</td>\n",
       "      <td>27</td>\n",
       "    </tr>\n",
       "    <tr>\n",
       "      <td>41</td>\n",
       "      <td>03/09/2016;</td>\n",
       "      <td>HP Server;</td>\n",
       "      <td>28</td>\n",
       "    </tr>\n",
       "    <tr>\n",
       "      <td>42</td>\n",
       "      <td>04/19/2016;</td>\n",
       "      <td>HP Server;</td>\n",
       "      <td>0</td>\n",
       "    </tr>\n",
       "    <tr>\n",
       "      <td>43</td>\n",
       "      <td>10/23/2015;</td>\n",
       "      <td>Juniper Router;</td>\n",
       "      <td>1</td>\n",
       "    </tr>\n",
       "    <tr>\n",
       "      <td>44</td>\n",
       "      <td>12/12/2015;</td>\n",
       "      <td>Juniper Router;</td>\n",
       "      <td>16</td>\n",
       "    </tr>\n",
       "    <tr>\n",
       "      <td>45</td>\n",
       "      <td>01/01/2016;</td>\n",
       "      <td>Juniper Router;</td>\n",
       "      <td>18</td>\n",
       "    </tr>\n",
       "    <tr>\n",
       "      <td>46</td>\n",
       "      <td>01/01/2016;</td>\n",
       "      <td>Juniper Router;</td>\n",
       "      <td>16</td>\n",
       "    </tr>\n",
       "    <tr>\n",
       "      <td>47</td>\n",
       "      <td>02/26/2016;</td>\n",
       "      <td>Juniper Router;</td>\n",
       "      <td>0</td>\n",
       "    </tr>\n",
       "    <tr>\n",
       "      <td>48</td>\n",
       "      <td>02/26/2016;</td>\n",
       "      <td>Juniper Router;</td>\n",
       "      <td>23</td>\n",
       "    </tr>\n",
       "  </tbody>\n",
       "</table>\n",
       "</div>"
      ],
      "text/plain": [
       "          Date;    Product Name;  Number Of Bugs\n",
       "0   08/01/2015;   Arista Router;              10\n",
       "1   09/10/2015;   Arista Router;               3\n",
       "2   09/10/2015;   Arista Router;               6\n",
       "3   10/23/2015;   Arista Router;               8\n",
       "4   10/23/2015;   Arista Router;              12\n",
       "5   12/12/2015;   Arista Router;               5\n",
       "6   12/12/2015;   Arista Router;              11\n",
       "7   12/12/2015;   Arista Router;               4\n",
       "8   12/12/2015;   Arista Router;              20\n",
       "9   01/01/2016;   Arista Router;              23\n",
       "10  01/01/2016;   Arista Router;              16\n",
       "11  01/01/2016;   Arista Router;               4\n",
       "12  02/26/2016;   Arista Router;               4\n",
       "13  02/26/2016;   Arista Router;              12\n",
       "14  04/19/2016;   Arista Router;               1\n",
       "15  08/01/2015;    Cisco Router;               1\n",
       "16  10/23/2015;    Cisco Router;              10\n",
       "17  12/12/2015;    Cisco Router;               9\n",
       "18  12/12/2015;    Cisco Router;              16\n",
       "19  12/12/2015;    Cisco Router;              18\n",
       "20  01/01/2016;    Cisco Router;              18\n",
       "21  02/26/2016;    Cisco Router;              21\n",
       "22  03/09/2016;    Cisco Router;              20\n",
       "23  09/10/2015;     Cisco Switch              13\n",
       "24  10/23/2015;     Dell Server;               5\n",
       "25  10/23/2015;     Dell Server;               6\n",
       "26  12/12/2015;     Dell Server;               7\n",
       "27  12/12/2015;     Dell Server;              18\n",
       "28  12/12/2015;     Dell Server;               0\n",
       "29  01/01/2016;     Dell Server;              11\n",
       "30  02/26/2016;     Dell Server;               2\n",
       "31  03/09/2016;     Dell Server;              23\n",
       "32  10/23/2015;       HP Server;               7\n",
       "33  12/12/2015;       HP Server;               4\n",
       "34  12/12/2015;       HP Server;               2\n",
       "35  02/26/2016;       HP Server;              20\n",
       "36  02/26/2016;       HP Server;               3\n",
       "37  02/26/2016;       HP Server;              30\n",
       "38  02/26/2016;       HP Server;              31\n",
       "39  03/09/2016;       HP Server;               2\n",
       "40  03/09/2016;       HP Server;              27\n",
       "41  03/09/2016;       HP Server;              28\n",
       "42  04/19/2016;       HP Server;               0\n",
       "43  10/23/2015;  Juniper Router;               1\n",
       "44  12/12/2015;  Juniper Router;              16\n",
       "45  01/01/2016;  Juniper Router;              18\n",
       "46  01/01/2016;  Juniper Router;              16\n",
       "47  02/26/2016;  Juniper Router;               0\n",
       "48  02/26/2016;  Juniper Router;              23"
      ]
     },
     "execution_count": 2,
     "metadata": {},
     "output_type": "execute_result"
    }
   ],
   "source": [
    "df = pd.read_csv('computer_parts.csv')\n",
    "df"
   ]
  },
  {
   "cell_type": "code",
   "execution_count": 4,
   "metadata": {},
   "outputs": [
    {
     "data": {
      "text/plain": [
       "<pandas.core.groupby.generic.DataFrameGroupBy object at 0x00000239DB3FCC88>"
      ]
     },
     "execution_count": 4,
     "metadata": {},
     "output_type": "execute_result"
    }
   ],
   "source": [
    "grouped = df.groupby('Product Name;')\n",
    "grouped"
   ]
  },
  {
   "cell_type": "code",
   "execution_count": 14,
   "metadata": {},
   "outputs": [
    {
     "data": {
      "text/plain": [
       "<pandas.core.groupby.generic.SeriesGroupBy object at 0x00000239DE370BC8>"
      ]
     },
     "execution_count": 14,
     "metadata": {},
     "output_type": "execute_result"
    }
   ],
   "source": [
    "grouped['Number Of Bugs']"
   ]
  },
  {
   "cell_type": "code",
   "execution_count": 20,
   "metadata": {},
   "outputs": [],
   "source": [
    "c = grouped['Product Name;'].count()"
   ]
  },
  {
   "cell_type": "code",
   "execution_count": 23,
   "metadata": {},
   "outputs": [
    {
     "data": {
      "text/plain": [
       "[15, 8, 1, 8, 11, 6]"
      ]
     },
     "execution_count": 23,
     "metadata": {},
     "output_type": "execute_result"
    }
   ],
   "source": [
    "x = [i for i in c]\n",
    "x"
   ]
  },
  {
   "cell_type": "code",
   "execution_count": 29,
   "metadata": {},
   "outputs": [
    {
     "data": {
      "text/plain": [
       "['Arista Router;',\n",
       " 'Cisco Router;',\n",
       " 'Cisco Switch',\n",
       " 'Dell Server;',\n",
       " 'HP Server;',\n",
       " 'Juniper Router;']"
      ]
     },
     "execution_count": 29,
     "metadata": {},
     "output_type": "execute_result"
    }
   ],
   "source": [
    "d = list(set(df['Product Name;']))\n",
    "d.sort()\n",
    "d"
   ]
  },
  {
   "cell_type": "code",
   "execution_count": 43,
   "metadata": {},
   "outputs": [
    {
     "data": {
      "text/plain": [
       "(-1.1094071863789547,\n",
       " 1.1004479612561406,\n",
       " -1.1197123491957524,\n",
       " 1.113913518208833)"
      ]
     },
     "execution_count": 43,
     "metadata": {},
     "output_type": "execute_result"
    },
    {
     "data": {
      "image/png": "[encoded data removed]",
      "text/plain": [
       "<Figure size 432x288 with 1 Axes>"
      ]
     },
     "metadata": {},
     "output_type": "display_data"
    }
   ],
   "source": [
    "plt.pie(x, labels=d, autopct='%0.1f%%', shadow=True)\n",
    "#plt.legend(title='Routers', loc='upper left')\n",
    "plt.axis('equal')"
   ]
  },
  {
   "cell_type": "code",
   "execution_count": 42,
   "metadata": {},
   "outputs": [
    {
     "data": {
      "text/plain": [
       "(-1.1094071863789547,\n",
       " 1.1004479612561406,\n",
       " -1.1197123491957524,\n",
       " 1.113913518208833)"
      ]
     },
     "execution_count": 42,
     "metadata": {},
     "output_type": "execute_result"
    },
    {
     "data": {
      "image/png": "[encoded data removed]",
      "text/plain": [
       "<Figure size 432x288 with 1 Axes>"
      ]
     },
     "metadata": {},
     "output_type": "display_data"
    }
   ],
   "source": [
    "plt.pie(x, labels=d, autopct='%0.1f%%', shadow=True)\n",
    "plt.legend(title='Routers', loc='upper left')\n",
    "plt.axis('image')"
   ]
  },
  {
   "cell_type": "code",
   "execution_count": null,
   "metadata": {},
   "outputs": [],
   "source": []
  }
 ],
 "metadata": {
  "kernelspec": {
   "display_name": "Python 3",
   "language": "python",
   "name": "python3"
  },
  "language_info": {
   "codemirror_mode": {
    "name": "ipython",
    "version": 3
   },
   "file_extension": ".py",
   "mimetype": "text/x-python",
   "name": "python",
   "nbconvert_exporter": "python",
   "pygments_lexer": "ipython3",
   "version": "3.7.4"
  }
 },
 "nbformat": 4,
 "nbformat_minor": 2
}
